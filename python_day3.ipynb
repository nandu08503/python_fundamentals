{
 "cells": [
  {
   "cell_type": "code",
   "execution_count": null,
   "id": "50156f7b",
   "metadata": {},
   "outputs": [],
   "source": [
    "#String Methods\n",
    "#Python having set of bulit in sting methods, we can use these methods in various functionalities\n",
    "#below are few string methods\n",
    "#1) title() -> This method coverts the first charcter of each word in the string to upper case\n",
    "#2) upper() -> This methid coverts the string in to upper case\n",
    "#3) lower() -> This method converts the string in to lowe case\n",
    "# We will see some of the example for these methods"
   ]
  },
  {
   "cell_type": "code",
   "execution_count": 43,
   "id": "e3e1ed3b",
   "metadata": {},
   "outputs": [
    {
     "name": "stdout",
     "output_type": "stream",
     "text": [
      "nandini grandhla\n",
      "Nandini Grandhla\n"
     ]
    }
   ],
   "source": [
    "name = \"nandini grandhla\";\n",
    "print(name);\n",
    "print(name.title());"
   ]
  },
  {
   "cell_type": "code",
   "execution_count": 44,
   "id": "37a2744d",
   "metadata": {},
   "outputs": [
    {
     "name": "stdout",
     "output_type": "stream",
     "text": [
      "NANDINI GRANDHLA\n"
     ]
    }
   ],
   "source": [
    "print(name.upper());"
   ]
  },
  {
   "cell_type": "code",
   "execution_count": 45,
   "id": "4725f218",
   "metadata": {},
   "outputs": [
    {
     "name": "stdout",
     "output_type": "stream",
     "text": [
      "nandini grandhla\n"
     ]
    }
   ],
   "source": [
    "print(name.lower());"
   ]
  },
  {
   "cell_type": "code",
   "execution_count": 46,
   "id": "3f542670",
   "metadata": {},
   "outputs": [
    {
     "name": "stdout",
     "output_type": "stream",
     "text": [
      "Nandini grandhla\n"
     ]
    }
   ],
   "source": [
    "print(name.capitalize());"
   ]
  },
  {
   "cell_type": "code",
   "execution_count": 50,
   "id": "f91f904a",
   "metadata": {},
   "outputs": [
    {
     "name": "stdout",
     "output_type": "stream",
     "text": [
      "-1\n",
      "8\n"
     ]
    }
   ],
   "source": [
    "name = \"Nandini Grandhala\";\n",
    "print(name.find('psatnam'));\n",
    "print(name.find('Grandhala'));"
   ]
  },
  {
   "cell_type": "code",
   "execution_count": 15,
   "id": "03228399",
   "metadata": {},
   "outputs": [
    {
     "name": "stdout",
     "output_type": "stream",
     "text": [
      "Anitha Gangapatnam \n"
     ]
    }
   ],
   "source": [
    "name = \"    Nandini Grandhala \";\n",
    "print(name.lstrip());"
   ]
  },
  {
   "cell_type": "code",
   "execution_count": 16,
   "id": "a5dac461",
   "metadata": {},
   "outputs": [
    {
     "name": "stdout",
     "output_type": "stream",
     "text": [
      "Anitha Gangapatnam\n"
     ]
    }
   ],
   "source": [
    "name = \"Nandini Grandhala      \";\n",
    "print(name.rstrip());"
   ]
  },
  {
   "cell_type": "code",
   "execution_count": 17,
   "id": "a334f489",
   "metadata": {},
   "outputs": [
    {
     "name": "stdout",
     "output_type": "stream",
     "text": [
      "Anitha Gangapatnam\n"
     ]
    }
   ],
   "source": [
    "name = \" Nandini Grandhala      \";\n",
    "print(name.strip());"
   ]
  },
  {
   "cell_type": "code",
   "execution_count": null,
   "id": "76d55eb3",
   "metadata": {},
   "outputs": [],
   "source": [
    "#fstring\n",
    "#fstring is used for formatting the strings as we want\n",
    "#fstring syntax\n",
    "# f \"{placeholder1} {placeholder2} {placeholder3}\";\n",
    "#Will see some exmaple for this"
   ]
  },
  {
   "cell_type": "code",
   "execution_count": 24,
   "id": "289ecbda",
   "metadata": {},
   "outputs": [
    {
     "name": "stdout",
     "output_type": "stream",
     "text": [
      "nandini grandhala\n",
      "Nandini Grandhala\n"
     ]
    }
   ],
   "source": [
    "fname = \"nandini\";\n",
    "lname = \"grandhala\";\n",
    "fullname = f\"{fname} {lname}\";\n",
    "print(fullname);\n",
    "print(fullname.title());"
   ]
  },
  {
   "cell_type": "code",
   "execution_count": 29,
   "id": "3ba740b4",
   "metadata": {},
   "outputs": [
    {
     "name": "stdout",
     "output_type": "stream",
     "text": [
      "Good Work nandini grandhala\n",
      "Good Work Nandini Grandhala\n"
     ]
    }
   ],
   "source": [
    "print(f\"Good Work {fullname}\");\n",
    "print(f\"Good Work {fullname.title()}\");"
   ]
  },
  {
   "cell_type": "code",
   "execution_count": null,
   "id": "4627aef8",
   "metadata": {},
   "outputs": [],
   "source": [
    "#Adding White Space to the String\n",
    "#will see some examples"
   ]
  },
  {
   "cell_type": "code",
   "execution_count": 42,
   "id": "3d2b45b4",
   "metadata": {},
   "outputs": [
    {
     "name": "stdout",
     "output_type": "stream",
     "text": [
      "favourite programming language:PythonPHPJAVACC++\n",
      "\n",
      "\n",
      "favourite programming language:\n",
      "Python\n",
      "PHP\n",
      "JAVA\n",
      "C\n",
      "C++\n",
      "\n",
      "\n",
      "favourite programming language:\n",
      "\tPython\n",
      "\tPHP\n",
      "\tJAVA\n",
      "\tC\n",
      "\tC++\n"
     ]
    }
   ],
   "source": [
    "print(\"favourite programming language:PythonPHPJAVACC++\");\n",
    "print(\"\\n\");\n",
    "print(\"favourite programming language:\\nPython\\nPHP\\nJAVA\\nC\\nC++\");\n",
    "print(\"\\n\");\n",
    "print(\"favourite programming language:\\n\\tPython\\n\\tPHP\\n\\tJAVA\\n\\tC\\n\\tC++\");"
   ]
  },
  {
   "cell_type": "code",
   "execution_count": null,
   "id": "87567ecc",
   "metadata": {},
   "outputs": [],
   "source": [
    "# \\n => new line delimeter\n",
    "# \\t => tab delimeter"
   ]
  }
 ],
 "metadata": {
  "kernelspec": {
   "display_name": "Python 3",
   "language": "python",
   "name": "python3"
  },
  "language_info": {
   "codemirror_mode": {
    "name": "ipython",
    "version": 3
   },
   "file_extension": ".py",
   "mimetype": "text/x-python",
   "name": "python",
   "nbconvert_exporter": "python",
   "pygments_lexer": "ipython3",
   "version": "3.8.8"
  }
 },
 "nbformat": 4,
 "nbformat_minor": 5
}
