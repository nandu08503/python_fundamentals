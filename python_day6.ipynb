{
 "cells": [
  {
   "cell_type": "code",
   "execution_count": null,
   "id": "b9485508",
   "metadata": {},
   "outputs": [],
   "source": [
    "students = ['Anil','ramesh','sai','haritha','nandhini','anitha'];\n",
    "#req: I want to approciate the above students in the list for sending me the practice files regularly.."
   ]
  },
  {
   "cell_type": "code",
   "execution_count": 9,
   "id": "9fddf0d9",
   "metadata": {},
   "outputs": [
    {
     "name": "stdout",
     "output_type": "stream",
     "text": [
      "Keep up the Good work, Anil\n"
     ]
    }
   ],
   "source": [
    "students = ['Anil','ramesh','sai','haritha','nandhini','anitha'];\n",
    "print (f\"Keep up the Good work, {students[0]}\");"
   ]
  },
  {
   "cell_type": "code",
   "execution_count": 10,
   "id": "435770fa",
   "metadata": {},
   "outputs": [
    {
     "name": "stdout",
     "output_type": "stream",
     "text": [
      "Keep up the Good work, Ramesh\n"
     ]
    }
   ],
   "source": [
    "print (f\"Keep up the Good work, {students[1].title()}\");"
   ]
  },
  {
   "cell_type": "code",
   "execution_count": null,
   "id": "32e37943",
   "metadata": {},
   "outputs": [],
   "source": [
    "Introduction to looping statements\n",
    "\n",
    "Introduction to for loop\n",
    "#General synatx of for loop\n",
    "\n",
    "for tempvar in mainvar:\n",
    "    print(tempvar);\n"
   ]
  },
  {
   "cell_type": "code",
   "execution_count": 12,
   "id": "6ebed5e2",
   "metadata": {},
   "outputs": [
    {
     "name": "stdout",
     "output_type": "stream",
     "text": [
      "Keep it up the Good work, Anil\n",
      "Keep it up the Good work, Ramesh\n",
      "Keep it up the Good work, Sai\n",
      "Keep it up the Good work, Haritha\n",
      "Keep it up the Good work, Nandhini\n",
      "Keep it up the Good work, Anitha\n"
     ]
    }
   ],
   "source": [
    "for x in students:\n",
    "    print(f\"Keep it up the Good work, {x.title()}\");"
   ]
  },
  {
   "cell_type": "code",
   "execution_count": null,
   "id": "d1d773b8",
   "metadata": {},
   "outputs": [],
   "source": [
    "#space is mandatory for print this is called Indentation"
   ]
  },
  {
   "cell_type": "code",
   "execution_count": 13,
   "id": "8ebf5e13",
   "metadata": {},
   "outputs": [
    {
     "ename": "IndentationError",
     "evalue": "expected an indented block (<ipython-input-13-76df4f721162>, line 2)",
     "output_type": "error",
     "traceback": [
      "\u001b[1;36m  File \u001b[1;32m\"<ipython-input-13-76df4f721162>\"\u001b[1;36m, line \u001b[1;32m2\u001b[0m\n\u001b[1;33m    print(f\"Keep it up the Good work, {x.title()}\");\u001b[0m\n\u001b[1;37m    ^\u001b[0m\n\u001b[1;31mIndentationError\u001b[0m\u001b[1;31m:\u001b[0m expected an indented block\n"
     ]
    }
   ],
   "source": [
    "for x in students:\n",
    "print(f\"Keep it up the Good work, {x.title()}\");"
   ]
  },
  {
   "cell_type": "code",
   "execution_count": null,
   "id": "72b4bad4",
   "metadata": {},
   "outputs": [],
   "source": [
    "#tempvar : is naything you can declare as"
   ]
  },
  {
   "cell_type": "code",
   "execution_count": null,
   "id": "f1ac2b6e",
   "metadata": {},
   "outputs": [],
   "source": [
    "#I want to convey message that, I will be looking for the practice of today"
   ]
  },
  {
   "cell_type": "code",
   "execution_count": 14,
   "id": "74eecdce",
   "metadata": {},
   "outputs": [
    {
     "name": "stdout",
     "output_type": "stream",
     "text": [
      "keep up the Good work, Anil\n",
      "I will be looking forward to receive your practice files of today, Anil\n",
      "keep up the Good work, Ramesh\n",
      "I will be looking forward to receive your practice files of today, Ramesh\n",
      "keep up the Good work, Sai\n",
      "I will be looking forward to receive your practice files of today, Sai\n",
      "keep up the Good work, Haritha\n",
      "I will be looking forward to receive your practice files of today, Haritha\n",
      "keep up the Good work, Nandhini\n",
      "I will be looking forward to receive your practice files of today, Nandhini\n",
      "keep up the Good work, Anitha\n",
      "I will be looking forward to receive your practice files of today, Anitha\n"
     ]
    }
   ],
   "source": [
    "for a in students:\n",
    "    print(f\"keep up the Good work, {a.title()}\");\n",
    "    print(f\"I will be looking forward to receive your practice files of today, {a.title()}\");"
   ]
  },
  {
   "cell_type": "code",
   "execution_count": null,
   "id": "3ed9e87e",
   "metadata": {},
   "outputs": [],
   "source": [
    "#Enhancement of the code"
   ]
  },
  {
   "cell_type": "code",
   "execution_count": 29,
   "id": "bf73d775",
   "metadata": {},
   "outputs": [
    {
     "name": "stdout",
     "output_type": "stream",
     "text": [
      "keep up the Good work, Anil\n",
      "I will be looking forward to receive your practice files of today, Anil.\n",
      "\n",
      "keep up the Good work, Ramesh\n",
      "I will be looking forward to receive your practice files of today, Ramesh.\n",
      "\n",
      "keep up the Good work, Sai\n",
      "I will be looking forward to receive your practice files of today, Sai.\n",
      "\n",
      "keep up the Good work, Haritha\n",
      "I will be looking forward to receive your practice files of today, Haritha.\n",
      "\n",
      "keep up the Good work, Nandhini\n",
      "I will be looking forward to receive your practice files of today, Nandhini.\n",
      "\n",
      "keep up the Good work, Anitha\n",
      "I will be looking forward to receive your practice files of today, Anitha.\n",
      "\n",
      "Thankyou all for joining the session\n"
     ]
    }
   ],
   "source": [
    "#space adding inside the loop -> many times\n",
    "#with out space outside the loop -> only one time will get display\n",
    "\n",
    "for a in students:\n",
    "    print(f\"keep up the Good work, {a.title()}\"); \n",
    "    print(f\"I will be looking forward to receive your practice files of today, {a.title()}.\\n\");\n",
    "print(\"Thankyou all for joining the session\"); "
   ]
  },
  {
   "cell_type": "code",
   "execution_count": null,
   "id": "61fc0f3b",
   "metadata": {},
   "outputs": [],
   "source": [
    "Introduction to slicing of list"
   ]
  },
  {
   "cell_type": "code",
   "execution_count": 18,
   "id": "e7345171",
   "metadata": {},
   "outputs": [
    {
     "name": "stdout",
     "output_type": "stream",
     "text": [
      "['Anil', 'ramesh', 'sai', 'haritha', 'nandhini', 'anitha']\n"
     ]
    }
   ],
   "source": [
    "print(students);"
   ]
  },
  {
   "cell_type": "code",
   "execution_count": null,
   "id": "6e88fb40",
   "metadata": {},
   "outputs": [],
   "source": [
    "#Genral syantx of slicing\n",
    "\n",
    "variable(startvalue:stopvalue:stopcount);\n",
    "#startvalue -> mandatory\n",
    "#stopvalue -> mandatory\n",
    "#stopcount -> optional(exclusive)"
   ]
  },
  {
   "cell_type": "code",
   "execution_count": null,
   "id": "e9ddd27b",
   "metadata": {},
   "outputs": [],
   "source": [
    "#I want to have Anil, ramesh in a slice"
   ]
  },
  {
   "cell_type": "code",
   "execution_count": 22,
   "id": "d84129d2",
   "metadata": {},
   "outputs": [
    {
     "name": "stdout",
     "output_type": "stream",
     "text": [
      "['Anil']\n"
     ]
    }
   ],
   "source": [
    "print(students[0:1]);"
   ]
  },
  {
   "cell_type": "code",
   "execution_count": 23,
   "id": "c87f0ce9",
   "metadata": {},
   "outputs": [
    {
     "name": "stdout",
     "output_type": "stream",
     "text": [
      "['Anil', 'ramesh']\n"
     ]
    }
   ],
   "source": [
    "print(students[0:2]);"
   ]
  }
 ],
 "metadata": {
  "kernelspec": {
   "display_name": "Python 3",
   "language": "python",
   "name": "python3"
  },
  "language_info": {
   "codemirror_mode": {
    "name": "ipython",
    "version": 3
   },
   "file_extension": ".py",
   "mimetype": "text/x-python",
   "name": "python",
   "nbconvert_exporter": "python",
   "pygments_lexer": "ipython3",
   "version": "3.8.8"
  }
 },
 "nbformat": 4,
 "nbformat_minor": 5
}
