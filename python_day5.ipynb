{
 "cells": [
  {
   "cell_type": "code",
   "execution_count": null,
   "id": "4b5c74ef",
   "metadata": {},
   "outputs": [],
   "source": [
    "Organising the list data type:\n",
    "\n",
    "cars = ['toyata','audi','maruthi','suzuki','kia','benz','bmw','hundai'];\n",
    "\n",
    "#req: I want to organise the above list in particular order....A-Z......?\n",
    "\n",
    "1) Temp Approach -----> sorted\n",
    "2) Permant Approach -----> sort\n"
   ]
  },
  {
   "cell_type": "code",
   "execution_count": 4,
   "id": "4013b1d8",
   "metadata": {},
   "outputs": [
    {
     "name": "stdout",
     "output_type": "stream",
     "text": [
      "['audi', 'benz', 'bmw', 'hundai', 'kia', 'maruthi', 'suzuki', 'toyata']\n"
     ]
    }
   ],
   "source": [
    "cars = ['toyata','audi','maruthi','suzuki','kia','benz','bmw','hundai'];\n",
    "print(sorted(cars));"
   ]
  },
  {
   "cell_type": "code",
   "execution_count": null,
   "id": "c5f740ab",
   "metadata": {},
   "outputs": [],
   "source": [
    "#Note: In the temporarry approach we will be having the original order of the list..."
   ]
  },
  {
   "cell_type": "code",
   "execution_count": 6,
   "id": "0a9340d4",
   "metadata": {},
   "outputs": [
    {
     "name": "stdout",
     "output_type": "stream",
     "text": [
      "['toyata', 'audi', 'maruthi', 'suzuki', 'kia', 'benz', 'bmw', 'hundai']\n"
     ]
    }
   ],
   "source": [
    "print(cars);"
   ]
  },
  {
   "cell_type": "code",
   "execution_count": 8,
   "id": "16074381",
   "metadata": {},
   "outputs": [
    {
     "name": "stdout",
     "output_type": "stream",
     "text": [
      "['audi', 'benz', 'bmw', 'hundai', 'kia', 'maruthi', 'suzuki', 'toyata']\n"
     ]
    }
   ],
   "source": [
    "cars.sort();\n",
    "print(cars);"
   ]
  },
  {
   "cell_type": "code",
   "execution_count": null,
   "id": "70e7fe4d",
   "metadata": {},
   "outputs": [],
   "source": [
    "#Interview question: what is the difference between sorted() vs sort() in a list\n",
    "\n",
    "Using sorted() method we can sort the list in temporary manner, for this function we need to store the dat in one variable \n",
    "and needs to use, it will not effect to original list\n",
    "Using sort() method we can sort the list in permanet manner, it will effect to original list"
   ]
  },
  {
   "cell_type": "code",
   "execution_count": null,
   "id": "8ec524fe",
   "metadata": {},
   "outputs": [],
   "source": [
    "#req: How to print the list in a reverse order Z-A\n",
    "we can use reverse() method #permanet modification"
   ]
  },
  {
   "cell_type": "code",
   "execution_count": 9,
   "id": "d267635e",
   "metadata": {},
   "outputs": [
    {
     "name": "stdout",
     "output_type": "stream",
     "text": [
      "['toyata', 'suzuki', 'maruthi', 'kia', 'hundai', 'bmw', 'benz', 'audi']\n"
     ]
    }
   ],
   "source": [
    "cars.reverse();\n",
    "print(cars);"
   ]
  },
  {
   "cell_type": "code",
   "execution_count": 10,
   "id": "e34cf683",
   "metadata": {},
   "outputs": [
    {
     "name": "stdout",
     "output_type": "stream",
     "text": [
      "['toyata', 'suzuki', 'maruthi', 'kia', 'hundai', 'bmw', 'benz', 'audi']\n"
     ]
    }
   ],
   "source": [
    "print(cars);"
   ]
  },
  {
   "cell_type": "code",
   "execution_count": null,
   "id": "04aa209b",
   "metadata": {},
   "outputs": [],
   "source": [
    "#req: How to count the numner of elements present in the list....?"
   ]
  },
  {
   "cell_type": "code",
   "execution_count": 12,
   "id": "b663989d",
   "metadata": {},
   "outputs": [
    {
     "name": "stdout",
     "output_type": "stream",
     "text": [
      "8\n"
     ]
    }
   ],
   "source": [
    "print(len(cars));"
   ]
  },
  {
   "cell_type": "code",
   "execution_count": null,
   "id": "b9c98103",
   "metadata": {},
   "outputs": [],
   "source": [
    "#Note: Python is a case sensitive language\n",
    "#Zen of Python...."
   ]
  },
  {
   "cell_type": "code",
   "execution_count": 13,
   "id": "d54dff4c",
   "metadata": {},
   "outputs": [
    {
     "name": "stdout",
     "output_type": "stream",
     "text": [
      "The Zen of Python, by Tim Peters\n",
      "\n",
      "Beautiful is better than ugly.\n",
      "Explicit is better than implicit.\n",
      "Simple is better than complex.\n",
      "Complex is better than complicated.\n",
      "Flat is better than nested.\n",
      "Sparse is better than dense.\n",
      "Readability counts.\n",
      "Special cases aren't special enough to break the rules.\n",
      "Although practicality beats purity.\n",
      "Errors should never pass silently.\n",
      "Unless explicitly silenced.\n",
      "In the face of ambiguity, refuse the temptation to guess.\n",
      "There should be one-- and preferably only one --obvious way to do it.\n",
      "Although that way may not be obvious at first unless you're Dutch.\n",
      "Now is better than never.\n",
      "Although never is often better than *right* now.\n",
      "If the implementation is hard to explain, it's a bad idea.\n",
      "If the implementation is easy to explain, it may be a good idea.\n",
      "Namespaces are one honking great idea -- let's do more of those!\n"
     ]
    }
   ],
   "source": [
    "import this"
   ]
  }
 ],
 "metadata": {
  "kernelspec": {
   "display_name": "Python 3",
   "language": "python",
   "name": "python3"
  },
  "language_info": {
   "codemirror_mode": {
    "name": "ipython",
    "version": 3
   },
   "file_extension": ".py",
   "mimetype": "text/x-python",
   "name": "python",
   "nbconvert_exporter": "python",
   "pygments_lexer": "ipython3",
   "version": "3.8.8"
  }
 },
 "nbformat": 4,
 "nbformat_minor": 5
}
