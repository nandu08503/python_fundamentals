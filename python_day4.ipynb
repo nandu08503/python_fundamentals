{
 "cells": [
  {
   "cell_type": "code",
   "execution_count": null,
   "id": "735041ca",
   "metadata": {},
   "outputs": [],
   "source": [
    "# Introduction to LIST Data type:\n",
    "\n",
    "Overview: A List is a collection of items defined in a particular order\n",
    "Classification: List is classified as an mutuable datatype(which we can edit and later)\n",
    "how to define the list ---> []\n",
    "\n",
    "see some examples\n",
    "\n",
    "students = [\"arun\",\"kiran\",\"sai\",\"anil\",\"hari\"] indexing -> #0, 1, 2, 3, 4\n"
   ]
  },
  {
   "cell_type": "code",
   "execution_count": 48,
   "id": "6d6ac317",
   "metadata": {},
   "outputs": [
    {
     "name": "stdout",
     "output_type": "stream",
     "text": [
      "['arun', 'kiran', 'sai', 'anil', 'hari']\n"
     ]
    }
   ],
   "source": [
    "students = [\"arun\",\"kiran\",\"sai\",\"anil\",\"hari\"];\n",
    "\n",
    "print(students);"
   ]
  },
  {
   "cell_type": "code",
   "execution_count": null,
   "id": "b1bd27bb",
   "metadata": {},
   "outputs": [],
   "source": [
    "#for getting datatype"
   ]
  },
  {
   "cell_type": "code",
   "execution_count": 25,
   "id": "f2d93018",
   "metadata": {},
   "outputs": [
    {
     "name": "stdout",
     "output_type": "stream",
     "text": [
      "<class 'list'>\n"
     ]
    }
   ],
   "source": [
    "print(type(students));"
   ]
  },
  {
   "cell_type": "code",
   "execution_count": null,
   "id": "f9b5da36",
   "metadata": {},
   "outputs": [],
   "source": [
    "# How to access the elements fromn the list..\n",
    "#req: I want to access the sai in the output...?"
   ]
  },
  {
   "cell_type": "code",
   "execution_count": 24,
   "id": "26d2e5bd",
   "metadata": {},
   "outputs": [
    {
     "name": "stdout",
     "output_type": "stream",
     "text": [
      "['arun', 'kiran', 'sai', 'anil', 'hari']\n",
      "\n",
      "\n",
      "sai\n"
     ]
    }
   ],
   "source": [
    "print(students);\n",
    "print(\"\\n\");\n",
    "print(students[2]);"
   ]
  },
  {
   "cell_type": "code",
   "execution_count": null,
   "id": "28246bf8",
   "metadata": {},
   "outputs": [],
   "source": [
    "#Introduction to Indexing ---> 0, 1, 2, 3..... Indexing will be added backend side\n",
    "#req: If we want output as a kiran"
   ]
  },
  {
   "cell_type": "code",
   "execution_count": 23,
   "id": "e3922cf4",
   "metadata": {},
   "outputs": [
    {
     "name": "stdout",
     "output_type": "stream",
     "text": [
      "kiran\n"
     ]
    }
   ],
   "source": [
    "print(students[1]);"
   ]
  },
  {
   "cell_type": "code",
   "execution_count": 21,
   "id": "6b419b80",
   "metadata": {},
   "outputs": [
    {
     "name": "stdout",
     "output_type": "stream",
     "text": [
      "Kiran\n"
     ]
    }
   ],
   "source": [
    "#Enhancement of the code(for proper format)\n",
    "print(students[1].title());"
   ]
  },
  {
   "cell_type": "code",
   "execution_count": null,
   "id": "455d206f",
   "metadata": {},
   "outputs": [],
   "source": [
    "1) How to add new elements to the list\n",
    "2) How to modify the elements in the list\n",
    "3) How to delete the eleements from the list\n",
    "\n",
    "1) How to add new elements to the list\n",
    "#req: I want to add prasad name in the studenst list"
   ]
  },
  {
   "cell_type": "code",
   "execution_count": 27,
   "id": "f34391fe",
   "metadata": {},
   "outputs": [
    {
     "name": "stdout",
     "output_type": "stream",
     "text": [
      "['arun', 'kiran', 'sai', 'anil', 'hari', 'prasad']\n",
      "['arun', 'kiran', 'sai', 'anil', 'hari', 'prasad', 'prasad']\n"
     ]
    }
   ],
   "source": [
    "print(students);\n",
    "students.append('prasad');\n",
    "print(students);"
   ]
  },
  {
   "cell_type": "code",
   "execution_count": null,
   "id": "5f16d3c5",
   "metadata": {},
   "outputs": [],
   "source": [
    "#req: I want to add Ramesh to the below list of stude"
   ]
  },
  {
   "cell_type": "code",
   "execution_count": 28,
   "id": "9f8120a2",
   "metadata": {},
   "outputs": [
    {
     "name": "stdout",
     "output_type": "stream",
     "text": [
      "['arun', 'kiran', 'sai', 'anil', 'hari', 'prasad', 'prasad', 'ramesh']\n"
     ]
    }
   ],
   "source": [
    "students.append('ramesh');\n",
    "print(students);"
   ]
  },
  {
   "cell_type": "code",
   "execution_count": null,
   "id": "c0ed1a42",
   "metadata": {},
   "outputs": [],
   "source": [
    "#req: I want to add Keerthi at 4th place index"
   ]
  },
  {
   "cell_type": "code",
   "execution_count": 31,
   "id": "10fb3024",
   "metadata": {
    "scrolled": true
   },
   "outputs": [
    {
     "name": "stdout",
     "output_type": "stream",
     "text": [
      "['arun', 'kiran', 'sai', 'anil', 'Keerthi', 'Keerthi', 'hari', 'prasad', 'prasad', 'ramesh']\n"
     ]
    }
   ],
   "source": [
    "students.insert(4, 'Keerthi');\n",
    "print(students);"
   ]
  },
  {
   "cell_type": "code",
   "execution_count": null,
   "id": "375b13f5",
   "metadata": {},
   "outputs": [],
   "source": [
    "2) How to modify/alter the elements in the list\n",
    "\n",
    "#req: I want to modify the sai name to nandhini"
   ]
  },
  {
   "cell_type": "code",
   "execution_count": 32,
   "id": "1ffd79a1",
   "metadata": {
    "scrolled": true
   },
   "outputs": [
    {
     "name": "stdout",
     "output_type": "stream",
     "text": [
      "['arun', 'kiran', 'nandhini', 'anil', 'Keerthi', 'Keerthi', 'hari', 'prasad', 'prasad', 'ramesh']\n"
     ]
    }
   ],
   "source": [
    "students[2] = 'nandhini';\n",
    "print(students);"
   ]
  },
  {
   "cell_type": "code",
   "execution_count": null,
   "id": "97b7f1ee",
   "metadata": {},
   "outputs": [],
   "source": [
    "3) How to delete the eleements from the list\n",
    "#req: deleting the kiran from the list"
   ]
  },
  {
   "cell_type": "code",
   "execution_count": 36,
   "id": "b795b6f8",
   "metadata": {},
   "outputs": [
    {
     "name": "stdout",
     "output_type": "stream",
     "text": [
      "['arun', 'nandhini', 'anil', 'Keerthi', 'Keerthi', 'hari', 'prasad', 'prasad', 'ramesh']\n",
      "['arun', 'anil', 'Keerthi', 'Keerthi', 'hari', 'prasad', 'prasad', 'ramesh']\n"
     ]
    }
   ],
   "source": [
    "print(students);\n",
    "del students[1];\n",
    "print(students);"
   ]
  },
  {
   "cell_type": "code",
   "execution_count": null,
   "id": "c7b96cb5",
   "metadata": {},
   "outputs": [],
   "source": [
    "#for temporary way of deleting the elemnenst\n",
    "\n",
    "pop -> by default it will be deleting the items from the list.\n",
    "It will be saving the deleted item in the assigned variable\n",
    "It will be creating a carbon copy of the deleted item"
   ]
  },
  {
   "cell_type": "code",
   "execution_count": 39,
   "id": "546eb1ce",
   "metadata": {},
   "outputs": [
    {
     "name": "stdout",
     "output_type": "stream",
     "text": [
      "['arun', 'anil', 'Keerthi', 'Keerthi', 'hari', 'prasad']\n",
      "['arun', 'anil', 'Keerthi', 'Keerthi', 'hari']\n",
      "prasad\n"
     ]
    }
   ],
   "source": [
    "print(students);\n",
    "x = students.pop();\n",
    "print(students);\n",
    "print(x)"
   ]
  },
  {
   "cell_type": "code",
   "execution_count": null,
   "id": "3e62aa42",
   "metadata": {},
   "outputs": [],
   "source": [
    "#using remove() method also we can delete the items from the list"
   ]
  },
  {
   "cell_type": "code",
   "execution_count": 45,
   "id": "ef0abaf3",
   "metadata": {},
   "outputs": [
    {
     "name": "stdout",
     "output_type": "stream",
     "text": [
      "['arun', 'Keerthi', 'Keerthi']\n"
     ]
    }
   ],
   "source": [
    "students.remove('hari')\n",
    "print(students);"
   ]
  },
  {
   "cell_type": "code",
   "execution_count": null,
   "id": "8df9aca4",
   "metadata": {},
   "outputs": [],
   "source": [
    "#using clear() method also we can delete all the items from the list"
   ]
  },
  {
   "cell_type": "code",
   "execution_count": 47,
   "id": "65a07456",
   "metadata": {},
   "outputs": [
    {
     "name": "stdout",
     "output_type": "stream",
     "text": [
      "[]\n"
     ]
    }
   ],
   "source": [
    "students.clear()\n",
    "print(students);"
   ]
  },
  {
   "cell_type": "code",
   "execution_count": null,
   "id": "3dea754c",
   "metadata": {},
   "outputs": [],
   "source": [
    "#for deleting elements 4 methods are there\n",
    "\n",
    "1) del -> in this method we need provide indexing of the element\n",
    "2) remove() -> in this method we need provide value of the element\n",
    "3) clear() -> using the we can delete all the elemnst from the list\n",
    "4) pop() -> for this we can delete the item temporarily here also we wil add index value"
   ]
  },
  {
   "cell_type": "code",
   "execution_count": null,
   "id": "200ccea3",
   "metadata": {},
   "outputs": [],
   "source": [
    "#Main Interview question: what is the difference between insert() and append()\n",
    "\n",
    "with append() you can add the element at the end of the list -> synatx -> listname.append()\n",
    "with insert() you can add the eleemnt exactly in the position where you want -> synatx-> listname.insert(postion/index, element)"
   ]
  }
 ],
 "metadata": {
  "kernelspec": {
   "display_name": "Python 3",
   "language": "python",
   "name": "python3"
  },
  "language_info": {
   "codemirror_mode": {
    "name": "ipython",
    "version": 3
   },
   "file_extension": ".py",
   "mimetype": "text/x-python",
   "name": "python",
   "nbconvert_exporter": "python",
   "pygments_lexer": "ipython3",
   "version": "3.8.8"
  }
 },
 "nbformat": 4,
 "nbformat_minor": 5
}
